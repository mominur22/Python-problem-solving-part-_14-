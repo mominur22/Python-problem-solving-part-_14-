{
 "cells": [
  {
   "cell_type": "markdown",
   "id": "c96e9a99",
   "metadata": {},
   "source": [
    "# Python problem solving (part _14)"
   ]
  },
  {
   "cell_type": "markdown",
   "id": "6cf6ecb3",
   "metadata": {},
   "source": [
    "83. Dictionary Merging: Given two dictionaries, write a Python program to merge them into a single dictionary and print the result."
   ]
  },
  {
   "cell_type": "code",
   "execution_count": 1,
   "id": "17f9d74a",
   "metadata": {},
   "outputs": [
    {
     "name": "stdout",
     "output_type": "stream",
     "text": [
      "Merged Dictionary: {'a': 1, 'b': 2, 'c': 3, 'd': 4, 'e': 5, 'f': 6}\n"
     ]
    }
   ],
   "source": [
    "def merge_dictionaries(dict1, dict2):\n",
    "    merged_dict = {**dict1, **dict2}\n",
    "    return merged_dict\n",
    "dict1 = {'a': 1, 'b': 2, 'c': 3}\n",
    "dict2 = {'d': 4, 'e': 5, 'f': 6}\n",
    "result_dict = merge_dictionaries(dict1, dict2)\n",
    "print(\"Merged Dictionary:\", result_dict)"
   ]
  },
  {
   "cell_type": "markdown",
   "id": "86e6df73",
   "metadata": {},
   "source": [
    "# 84. Dictionary Key Removal: Given a dictionary of items and their quantities, write a Python program to remove a specific item from the dictionary based on user input."
   ]
  },
  {
   "cell_type": "code",
   "execution_count": null,
   "id": "503821b4",
   "metadata": {},
   "outputs": [],
   "source": [
    "def remove_item(dictionary, item_to_remove):\n",
    "    if item_to_remove in dictionary:\n",
    "        del dictionary[item_to_remove]\n",
    "        print(f\"{item_to_remove} has been removed from the dictionary.\")\n",
    "    else:\n",
    "        print(f\"{item_to_remove} is not found in the dictionary.\")\n",
    "items_quantities = {'apple': 5, 'banana': 3, 'orange': 8, 'grapes': 2}\n",
    "item_to_remove = input(\"Enter the item to remove from the dictionary: \")\n",
    "remove_item(items_quantities, item_to_remove)\n",
    "print(\"\\nUpdated Dictionary:\")\n",
    "for item, quantity in items_quantities.items():\n",
    "    print(f\"{item}: {quantity}\")"
   ]
  },
  {
   "cell_type": "markdown",
   "id": "c9b77c78",
   "metadata": {},
   "source": [
    "# 85. Dictionary Sorting: Given a dictionary with names as keys and corresponding ages as values, write a Python program to sort the dictionary based on age in ascending order."
   ]
  },
  {
   "cell_type": "code",
   "execution_count": null,
   "id": "bece7796",
   "metadata": {},
   "outputs": [],
   "source": [
    "ages_dict = {'Alice': 25, 'Bob': 30, 'Charlie': 22, 'David': 28}\n",
    "sorted_ages_dict = dict(sorted(ages_dict.items(), key=lambda item: item[1]))\n",
    "print(\"Sorted Dictionary Based on Ages (Ascending Order):\")\n",
    "for name, age in sorted_ages_dict.items():\n",
    "    print(f\"{name}: {age}\")\n"
   ]
  },
  {
   "cell_type": "markdown",
   "id": "a5315bac",
   "metadata": {},
   "source": [
    "# 86. Dictionary Frequency Count: Write a Python program that takes a string as input and creates a dictionary containing each character as a key and its frequency as the value."
   ]
  },
  {
   "cell_type": "code",
   "execution_count": null,
   "id": "1e33692c",
   "metadata": {},
   "outputs": [],
   "source": [
    "def char_frequency_dict(input_string):\n",
    "    frequency_dict = {}\n",
    "    for char in input_string:\n",
    "        if char in frequency_dict:\n",
    "            frequency_dict[char] += 1\n",
    "        else:\n",
    "            frequency_dict[char] = 1\n",
    "    return frequency_dict\n",
    "input_string = input(\"Enter a string: \")\n",
    "result_dict = char_frequency_dict(input_string)\n",
    "print(\"Character Frequency Dictionary:\")\n",
    "for char, frequency in result_dict.items():\n",
    "    print(f\"{char}: {frequency}\")\n"
   ]
  },
  {
   "cell_type": "markdown",
   "id": "d110f01b",
   "metadata": {},
   "source": [
    "# 87. Dictionary Comprehension: Given a list of integers, write a Python program to create a dictionary where the keys are the elements from the list, and the values are their squares."
   ]
  },
  {
   "cell_type": "code",
   "execution_count": null,
   "id": "4a2b4d7f",
   "metadata": {},
   "outputs": [],
   "source": [
    "def create_squares_dict(input_list):\n",
    "    squares_dict = {}\n",
    "    for num in input_list:\n",
    "        squares_dict[num] = num ** 2\n",
    "    return squares_dict\n",
    "input_list_str = input(\"Enter a list of integers separated by spaces: \")\n",
    "user_list = [int(x) for x in input_list_str.split()]\n",
    "result_dict = create_squares_dict(user_list)\n",
    "print(\"Dictionary with Squares:\")\n",
    "for key, value in result_dict.items():\n",
    "    print(f\"{key}: {value}\")\n"
   ]
  },
  {
   "cell_type": "markdown",
   "id": "dc7acca0",
   "metadata": {},
   "source": [
    "# 88. Dictionary Key Check: Write a Python program that takes a key as input and checks if it exists in a given dictionary. Print “Key Found” if the key is present and “Key Not Found” otherwise."
   ]
  },
  {
   "cell_type": "code",
   "execution_count": null,
   "id": "17abeb49",
   "metadata": {},
   "outputs": [],
   "source": [
    "def check_key(dictionary, key_to_check):\n",
    "    if key_to_check in dictionary:\n",
    "        print(\"Key Found\")\n",
    "    else:\n",
    "        print(\"Key Not Found\")\n",
    "sample_dict = {'a': 1, 'b': 2, 'c': 3, 'd': 4}\n",
    "key_to_check = input(\"Enter the key to check in the dictionary: \")\n",
    "check_key(sample_dict, key_to_check)"
   ]
  },
  {
   "cell_type": "code",
   "execution_count": null,
   "id": "ceca988f",
   "metadata": {},
   "outputs": [],
   "source": []
  }
 ],
 "metadata": {
  "kernelspec": {
   "display_name": "Python 3 (ipykernel)",
   "language": "python",
   "name": "python3"
  },
  "language_info": {
   "codemirror_mode": {
    "name": "ipython",
    "version": 3
   },
   "file_extension": ".py",
   "mimetype": "text/x-python",
   "name": "python",
   "nbconvert_exporter": "python",
   "pygments_lexer": "ipython3",
   "version": "3.11.5"
  }
 },
 "nbformat": 4,
 "nbformat_minor": 5
}
